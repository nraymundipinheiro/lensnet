{
 "cells": [
  {
   "cell_type": "markdown",
   "id": "6f3c1f41",
   "metadata": {},
   "source": [
    "<h1><center>Generating a Population of Non-Lensed Galaxies</center></h1>\n",
    "\n",
    "This notebook is used to generate images of non-lensed galaxies. These images\n",
    "can be used to train the model.\n",
    "\n",
    "This notebook is based on \n",
    "Narayan Khadka's [`SLSim`](https://github.com/LSST-strong-lensing/slsim).\n",
    "\n",
    "<h3><center>Table of Contents</center></h3>\n",
    "\n",
    "1. [Libraries & Dependencies](#libraries_dependencies)\n",
    "2. [Setting the Universe's Parameters](#setting_parameters)\n",
    "3. [Generating a Population of Galaxies](#generating_population)\n",
    "   1. [Set Requirements for Simulation](#generating_population1)\n",
    "   2. [Set Up Simulation Pipeline](#generating_population2)\n",
    "   3. [Initiate False Positive Population Class](#generating_population3)\n",
    "   4. [Draw Non-Lenses](#generating_population4)\n",
    "4. [Simulate Images](#simulate_images)\n",
    "   1. [Simulate Images in the <i>i</i>, <i>r</i>, and <i>g</i> Bands](#simulate_images1)\n",
    "   2. [Simulate Images in the RGB Color Scale](#simulate_images2)\n",
    "5. [Vizualize the Simulated Images](#visualize)\n",
    "6. [Save Individual Images](#save)\n",
    "7. [<i>Additional: Delete Images</i>](#delete)"
   ]
  },
  {
   "cell_type": "markdown",
   "id": "f622440c",
   "metadata": {},
   "source": [
    "<a id='libraries_dependencies'></a>  <!-- Cell ID -->\n",
    "<h2>1. Libraries & Dependencies</h2>"
   ]
  },
  {
   "cell_type": "code",
   "execution_count": 4,
   "id": "7749800d",
   "metadata": {},
   "outputs": [],
   "source": [
    "# From astropy\n",
    "from astropy.cosmology import FlatLambdaCDM\n",
    "from astropy.units     import Quantity\n",
    "\n",
    "# From slsim\n",
    "from slsim import Pipelines, Deflectors, Sources\n",
    "from slsim.FalsePositives.false_positive_pop import FalsePositivePop\n",
    "from slsim.image_simulation import simulate_image\n",
    "from slsim.image_simulation import rgb_image_from_image_list\n",
    "from slsim.Plots.plot_functions import create_image_montage_from_image_list\n",
    "\n",
    "# Other libraries\n",
    "from tqdm import tqdm\n",
    "import numpy as np\n",
    "import os, imageio # To save images\n",
    "import shutil # To empty directory"
   ]
  },
  {
   "cell_type": "markdown",
   "id": "5bbe6084",
   "metadata": {},
   "source": [
    "<a id='setting_parameters'></a>  <!-- Cell ID -->\n",
    "<h2>2. Setting the Universe's Parameters</h2>"
   ]
  },
  {
   "cell_type": "markdown",
   "id": "88613f83",
   "metadata": {},
   "source": [
    "First, we pick a cosmological model. This tells `astropy` to assume a flat\n",
    "universe with a Hubble constant of $H_0 = 70 \\text{~km s}^{-1}$\n",
    "$\\text{Mpc}^{-1}$ and a matter density parameter $\\Omega_\\text{m} = 0.3$.\n",
    "\n",
    "We’ll use this `cosmo` object whenever we need to convert between redshift \n",
    "and distance or compute comoving volumes."
   ]
  },
  {
   "cell_type": "code",
   "execution_count": 5,
   "id": "25094c93",
   "metadata": {},
   "outputs": [],
   "source": [
    "cosmo = FlatLambdaCDM(H0=70, Om0=0.3)"
   ]
  },
  {
   "cell_type": "markdown",
   "id": "c62bfa52",
   "metadata": {},
   "source": [
    "Next, we define how big a piece of sky we’re simulating versus the full survey footprint."
   ]
  },
  {
   "cell_type": "code",
   "execution_count": 6,
   "id": "0a7c0302",
   "metadata": {},
   "outputs": [],
   "source": [
    "sky_area      = Quantity(value=2,   unit=\"deg2\") #   2 deg²\n",
    "sky_area_full = Quantity(value=230, unit=\"deg2\") # 230 deg²"
   ]
  },
  {
   "cell_type": "markdown",
   "id": "d45e4dd8",
   "metadata": {},
   "source": [
    "<a id='generating_population'></a>  <!-- Cell ID -->\n",
    "<h2>3. Generating a Population of Galaxies</h2>"
   ]
  },
  {
   "cell_type": "markdown",
   "id": "c0d32b26",
   "metadata": {},
   "source": [
    "<a id='generating_population1'></a>  <!-- Cell ID -->\n",
    "<h3>3.1. Set Requirements for Simulation</h3>\n",
    "\n",
    "To start, we specify simple \"cuts\" on our two galaxy populations (deflectors\n",
    "and background sources) so that we only draw objects that are bright enough\n",
    "and lie in the redshift ranges we care about."
   ]
  },
  {
   "cell_type": "code",
   "execution_count": 7,
   "id": "eb2b7d83",
   "metadata": {},
   "outputs": [],
   "source": [
    "kwargs_deflector_cut = {\n",
    "    \"band\": \"i\",\n",
    "    \"band_max\": 27,\n",
    "    \"z_min\": 0.01,\n",
    "    \"z_max\": 1.5\n",
    "}\n",
    "\n",
    "kwargs_source_cut = {\n",
    "    \"band\": \"i\",\n",
    "    \"band_max\": 25,\n",
    "    \"z_min\": 0.01,\n",
    "    \"z_max\": 5.0\n",
    "}"
   ]
  },
  {
   "cell_type": "markdown",
   "id": "3270c140",
   "metadata": {},
   "source": [
    "Together, these dictionaries tell our sampling routine to select deflector\n",
    "galaxies no fainter than magnitude $m_i = 27$ in the <i>i</i>-band between\n",
    "$z = 0.01$ to $1.5$, and source galaxies no fainter than $m_i = 25$ between\n",
    "$z = 0.01$ to $5.0$. That way, we generate only the objects that will appear\n",
    "(and potentially lens) in our simulated images."
   ]
  },
  {
   "cell_type": "markdown",
   "id": "54d192ea",
   "metadata": {},
   "source": [
    "<a id='generating_population2'></a>  <!-- Cell ID -->\n",
    "<h3>3.2. Set Up Simulation Pipeline</h3>\n",
    "\n",
    "Here, we instantiate `skypy`'s \"pipeline\" object.\n",
    "\n",
    "By passing in our survey area (`sky_area`) and cosmology (`cosmo`), it knows\n",
    "where and how big a patch of sky to simulate."
   ]
  },
  {
   "cell_type": "code",
   "execution_count": 8,
   "id": "a8c92751",
   "metadata": {},
   "outputs": [],
   "source": [
    "simulation_pipeline = Pipelines.SkyPyPipeline(\n",
    "    skypy_config = None,\n",
    "    sky_area = sky_area,\n",
    "    filters = None,\n",
    "    cosmo = cosmo\n",
    ")"
   ]
  },
  {
   "cell_type": "markdown",
   "id": "d8ad83a2",
   "metadata": {},
   "source": [
    "Then, we draw a catalog of red (early-type) galaxies. The `red_galaxies`\n",
    "property runs through the pipeline’s galaxy-population recipe and returns an\n",
    "array of simulated red galaxies."
   ]
  },
  {
   "cell_type": "code",
   "execution_count": 9,
   "id": "7bc7eae3",
   "metadata": {},
   "outputs": [],
   "source": [
    "deflector_galaxy_list = simulation_pipeline.red_galaxies"
   ]
  },
  {
   "cell_type": "markdown",
   "id": "997982b0",
   "metadata": {},
   "source": [
    "Now, we turn our raw catalog of red galaxies into a fully-specified set of lens\n",
    "deflectors that `slsim` can use to make images."
   ]
  },
  {
   "cell_type": "code",
   "execution_count": 10,
   "id": "31df48ce",
   "metadata": {},
   "outputs": [
    {
     "name": "stderr",
     "output_type": "stream",
     "text": [
      "/Users/nataliaraymundipinheiro/Documents/Stony Brook University/Semesters/Spring 2025/PHY688/projects/lensnet/external/slsim/slsim/Deflectors/elliptical_lens_galaxies.py:46: UserWarning: Angular size is converted to arcsec because provided input_catalog_type is skypy. If this is not correct, please refer to the documentation of the class you are using\n",
      "  galaxy_list = param_util.catalog_with_angular_size_in_arcsec(\n"
     ]
    }
   ],
   "source": [
    "deflector_galaxies = Deflectors.EllipticalLensGalaxies(\n",
    "    # Filter only brightest systems\n",
    "    galaxy_list = deflector_galaxy_list[deflector_galaxy_list[\"mag_i\"] > 18],\n",
    "    # Pass the deflector requirements\n",
    "    kwargs_cut = kwargs_deflector_cut,\n",
    "    # Default mass-to-light prescription\n",
    "    kwargs_mass2light = None,\n",
    "    cosmo = cosmo,\n",
    "    sky_area = sky_area\n",
    ")"
   ]
  },
  {
   "cell_type": "markdown",
   "id": "1578a467",
   "metadata": {},
   "source": [
    "For the source galaxies, we take the blue (late-type) galaxies."
   ]
  },
  {
   "cell_type": "code",
   "execution_count": 11,
   "id": "1603cc35",
   "metadata": {},
   "outputs": [],
   "source": [
    "source_galaxy_list = simulation_pipeline.blue_galaxies"
   ]
  },
  {
   "cell_type": "markdown",
   "id": "f3b91d88",
   "metadata": {},
   "source": [
    "The next step builds our background source catalog."
   ]
  },
  {
   "cell_type": "code",
   "execution_count": 12,
   "id": "095dd699",
   "metadata": {},
   "outputs": [],
   "source": [
    "source_galaxies = Sources.Galaxies(\n",
    "    galaxy_list = source_galaxy_list,\n",
    "    # Pass the source requirements\n",
    "    kwargs_cut = kwargs_source_cut,\n",
    "    cosmo = cosmo,\n",
    "    sky_area = sky_area,\n",
    "    catalog_type = \"skypy\",\n",
    "    # Default skypy prescription\n",
    "    downsample_to_dc2 = False,\n",
    ")"
   ]
  },
  {
   "cell_type": "markdown",
   "id": "7240b96b",
   "metadata": {},
   "source": [
    "<a id='generating_population3'></a>  <!-- Cell ID -->\n",
    "<h3>3.3. Initiate False Positive Population Class</h3>\n",
    "\n",
    "We take the deflector and source catalogs and wrap them into a \"galaxy–galaxy\"\n",
    "population object that we’ll hand off to the imaging code. `population_generator`\n",
    "will hold all of the pairings we need to loop over when we render our images."
   ]
  },
  {
   "cell_type": "code",
   "execution_count": 13,
   "id": "e0b5338d",
   "metadata": {},
   "outputs": [],
   "source": [
    "population_generator = FalsePositivePop(\n",
    "    deflector_galaxies,\n",
    "    source_galaxies,\n",
    "    cosmo = cosmo,\n",
    "    # Simulate exactly our defined sky_area\n",
    "    test_area_factor = 1,\n",
    "    # Randomly assign either one, two, or three sources behind each lens\n",
    "    source_number_choice = [1, 2, 3]\n",
    ")"
   ]
  },
  {
   "cell_type": "markdown",
   "id": "75b3d401",
   "metadata": {},
   "source": [
    "<a id='generating_population4'></a>  <!-- Cell ID -->\n",
    "<h3>3.4. Draw Non-Lenses</h3>\n",
    "\n",
    "Tell `FalsePositivePop` to pull a batch of false-positives (non-lensed galaxy pairs) from\n",
    "the galaxy-galaxy population. The chosen number is the quantity of specific\n",
    "lens-source pairings that produce no strong-lensing signature."
   ]
  },
  {
   "cell_type": "code",
   "execution_count": 14,
   "id": "37a840e3",
   "metadata": {},
   "outputs": [],
   "source": [
    "# If number is too large, there may be a memory issue\n",
    "false_positive_population = population_generator.draw_false_positive(\n",
    "    number = 100\n",
    ")"
   ]
  },
  {
   "cell_type": "markdown",
   "id": "fb77738a",
   "metadata": {},
   "source": [
    "`population_generator` is the recipe or blueprint for pairing lenses and\n",
    "sources. `false_positive_population` is the actual list of a certain number of\n",
    "paired instances drawn from that recipe, all of which are \"negative\"; they are\n",
    "ready to be rendered into images and used in the learning model as negative\n",
    "examples."
   ]
  },
  {
   "cell_type": "markdown",
   "id": "b3629f15",
   "metadata": {},
   "source": [
    "<a id='simulate_images'></a>  <!-- Cell ID -->\n",
    "<h2>4. Simulate Images</h2>\n",
    "\n",
    "\n",
    "Now that we have the information to render the images, we can start creating\n",
    "them so we can feed them into our learning model."
   ]
  },
  {
   "cell_type": "markdown",
   "id": "45a81a86",
   "metadata": {},
   "source": [
    "<a id='simulate_images1'></a>  <!-- Cell ID -->\n",
    "<h3>4.1. Simulate Images in the <i>i</i>, <i>r</i>, and <i>g</i> Bands</h3>\n",
    "\n",
    "We’re taking each of your non-lensed galaxy–galaxy pairings and turning them\n",
    "into three separate mock observations: one in the <i>i</i>-band, one in the\n",
    "<i>r</i>-band, and one in the <i>g</i>-band."
   ]
  },
  {
   "cell_type": "code",
   "execution_count": 15,
   "id": "5dc69407",
   "metadata": {},
   "outputs": [
    {
     "name": "stderr",
     "output_type": "stream",
     "text": [
      "  0%|                                                                                                                                                      | 0/100 [00:00<?, ?it/s]/opt/anaconda3/lib/python3.12/site-packages/lenstronomy/LensModel/lens_model.py:96: UserWarning: Astropy Cosmology is provided. Make sure your cosmology model is consistent with the cosmology_model argument.\n",
      "  warnings.warn(\n",
      "100%|████████████████████████████████████████████████████████████████████████████████████████████████████████████████████████████████████████████| 100/100 [00:03<00:00, 32.31it/s]\n"
     ]
    }
   ],
   "source": [
    "image_list_i, image_list_r, image_list_g = [], [], []\n",
    "\n",
    "# Parameters to simulate image\n",
    "# All images use the same parameters\n",
    "num_pix = 128 # Number of pixels per axis\n",
    "add_noise = True\n",
    "observatory = \"LSST\"\n",
    "kwargs_psf = None\n",
    "kwargs_numerics = None\n",
    "\n",
    "\n",
    "for false_positive_pair in tqdm(false_positive_population):\n",
    "    \n",
    "    # i-band\n",
    "    image_i = simulate_image(\n",
    "        false_positive_pair,\n",
    "        band = \"i\",\n",
    "        num_pix = num_pix,\n",
    "        add_noise = add_noise,\n",
    "        observatory = observatory,\n",
    "        kwargs_psf = kwargs_psf,\n",
    "        kwargs_numerics = kwargs_numerics\n",
    "    )\n",
    "    image_list_i.append(image_i)\n",
    "    \n",
    "    # r-band\n",
    "    image_r = simulate_image(\n",
    "        false_positive_pair,\n",
    "        band = \"r\",\n",
    "        num_pix = num_pix,\n",
    "        add_noise = add_noise,\n",
    "        observatory = observatory,\n",
    "        kwargs_psf = kwargs_psf,\n",
    "        kwargs_numerics = kwargs_numerics\n",
    "    )\n",
    "    image_list_r.append(image_r)\n",
    "    \n",
    "    # g-band\n",
    "    image_g = simulate_image(\n",
    "        false_positive_pair,\n",
    "        band = \"g\",\n",
    "        num_pix = num_pix,\n",
    "        add_noise = add_noise,\n",
    "        observatory = observatory,\n",
    "        kwargs_psf = kwargs_psf,\n",
    "        kwargs_numerics = kwargs_numerics\n",
    "    )\n",
    "    image_list_g.append(image_g)\n",
    "    "
   ]
  },
  {
   "cell_type": "markdown",
   "id": "f57a2493",
   "metadata": {
    "vscode": {
     "languageId": "html"
    }
   },
   "source": [
    "<a id='simulate_images2'></a>  <!-- Cell ID -->\n",
    "<h3>4.2. Simulate Images in the RGB Color Scale</h3>\n",
    "\n",
    "Simulating RGB (or, more generally, multi-band) cutouts gives the model other\n",
    "types of information."
   ]
  },
  {
   "cell_type": "code",
   "execution_count": 16,
   "id": "57f63e78",
   "metadata": {},
   "outputs": [
    {
     "name": "stderr",
     "output_type": "stream",
     "text": [
      "100%|██████████████████████████████████████████████████████████████████████████████████████████████████████████████████████████████████████████| 100/100 [00:00<00:00, 1061.46it/s]\n"
     ]
    }
   ],
   "source": [
    "image_list_rgb = []\n",
    "\n",
    "for image_i in tqdm(range(len(image_list_i))):\n",
    "    image_rgb = rgb_image_from_image_list(\n",
    "        [\n",
    "            image_list_i[image_i],\n",
    "            image_list_r[image_i],\n",
    "            image_list_g[image_i]\n",
    "        ],\n",
    "        # Controls intensity scaling so that faint arcs are visible\n",
    "        stretch = 0.5\n",
    "    )\n",
    "    image_list_rgb.append(image_rgb)"
   ]
  },
  {
   "cell_type": "markdown",
   "id": "5e55af66",
   "metadata": {},
   "source": [
    "<a id='visualize'></a>  <!-- Cell ID -->\n",
    "<h2>5. Vizualize the Simulated Images</h2>\n",
    "\n",
    "Grab a subset of the RGB cutouts and lay them out in a big tiled image. This\n",
    "allows us to eyeball lots of examples at once.\n",
    "\n",
    "Uncomment this code if you wish to visualize the images. Be aware that it may\n",
    "take a while if the number of pixels is large."
   ]
  },
  {
   "cell_type": "code",
   "execution_count": 17,
   "id": "d5094e9e",
   "metadata": {},
   "outputs": [],
   "source": [
    "# num_images = np.arange(1000)\n",
    "# selected_images = []\n",
    "\n",
    "# for i in tqdm(num_images):\n",
    "#     selected_images.append(image_list_rgb[i])\n",
    "    \n",
    "# grid = create_image_montage_from_image_list(\n",
    "#     num_rows = 84,\n",
    "#     num_cols = 12,\n",
    "#     images = selected_images,\n",
    "#     time = None,\n",
    "#     image_type = \"other\"\n",
    "# )"
   ]
  },
  {
   "cell_type": "markdown",
   "id": "ca5b8f57",
   "metadata": {},
   "source": [
    "<a id='save'></a>  <!-- Cell ID -->\n",
    "<h2>6. Save Individual Images</h2>"
   ]
  },
  {
   "cell_type": "code",
   "execution_count": 18,
   "id": "0254411e",
   "metadata": {},
   "outputs": [],
   "source": [
    "output_dir = \"../../data/raw/negative\""
   ]
  },
  {
   "cell_type": "code",
   "execution_count": 19,
   "id": "747f9041",
   "metadata": {},
   "outputs": [
    {
     "name": "stderr",
     "output_type": "stream",
     "text": [
      "100it [00:00, 205.56it/s]\n"
     ]
    }
   ],
   "source": [
    "for i, image in tqdm(enumerate(image_list_rgb)):\n",
    "    # i is the index of the image\n",
    "    # image has shape (41, 41, 3)\n",
    "    \n",
    "    filename = os.path.join(output_dir, f\"negative_image_{i:04d}.png\")\n",
    "    imageio.imwrite(filename, image)"
   ]
  },
  {
   "cell_type": "markdown",
   "id": "ed8ab300",
   "metadata": {},
   "source": [
    "<a id='delete'></a>  <!-- Cell ID -->\n",
    "<h2>7. <i>Additional: Delete Images</i></h2>\n",
    "\n",
    "This deletes everything that is inside `raw-negative`. Uncomment if the files\n",
    "need deleting."
   ]
  },
  {
   "cell_type": "code",
   "execution_count": 35,
   "id": "224dc02b",
   "metadata": {},
   "outputs": [],
   "source": [
    "# for entry in tqdm(os.listdir(output_dir)):\n",
    "#     entry_path = os.path.join(output_dir, entry)\n",
    "    \n",
    "#     try:\n",
    "#         if os.path.isfile(entry_path) or os.path.islink(entry_path):\n",
    "#             os.remove(entry_path)\n",
    "#         elif os.path.isdir(entry_path):\n",
    "#             shutil.rmtree(entry_path)\n",
    "#     except Exception as e:\n",
    "#         print(f\"Failed to delete {entry_path}: {e}\")"
   ]
  }
 ],
 "metadata": {
  "kernelspec": {
   "display_name": "Python 3 (ipykernel)",
   "language": "python",
   "name": "python3"
  }
 },
 "nbformat": 4,
 "nbformat_minor": 5
}
